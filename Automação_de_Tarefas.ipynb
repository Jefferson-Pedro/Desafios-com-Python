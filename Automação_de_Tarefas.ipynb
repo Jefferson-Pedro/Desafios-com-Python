{
 "cells": [
  {
   "cell_type": "markdown",
   "metadata": {
    "id": "P137xAovdr6H"
   },
   "source": [
    "# Automação de Sistemas e Processos com Python\n",
    "\n",
    "### Desafio:\n",
    "\n",
    "Para controle de custos, todos os dias, seu chefe pede um relatório com todas as compras de mercadorias da empresa.\n",
    "O seu trabalho, como analista, é enviar um e-mail para ele, assim que começar a trabalhar, com o total gasto, a quantidade de produtos compradas e o preço médio dos produtos.\n",
    "\n",
    "E-mail do seu chefe: para o nosso exercício, coloque um e-mail seu como sendo o e-mail do seu chefe<br>\n",
    "Link de acesso ao sistema da empresa: https://pages.hashtagtreinamentos.com/aula1-intensivao-sistema\n",
    "\n",
    "Para resolver isso, vamos usar o pyautogui, uma biblioteca de automação de comandos do mouse e do teclado\n",
    "\n"
   ]
  },
  {
   "cell_type": "code",
   "execution_count": 50,
   "metadata": {
    "colab": {
     "base_uri": "https://localhost:8080/"
    },
    "id": "0t8MDKt6esOO",
    "outputId": "12b81779-a5fd-4072-f165-0d66790b0446",
    "scrolled": false
   },
   "outputs": [
    {
     "name": "stdout",
     "output_type": "stream",
     "text": [
      "Requirement already satisfied: pyautogui in c:\\users\\jefferson.silva\\anaconda3\\lib\\site-packages (0.9.53)\n",
      "Requirement already satisfied: pymsgbox in c:\\users\\jefferson.silva\\anaconda3\\lib\\site-packages (from pyautogui) (1.0.9)\n",
      "Requirement already satisfied: pyscreeze>=0.1.21 in c:\\users\\jefferson.silva\\anaconda3\\lib\\site-packages (from pyautogui) (0.1.28)\n",
      "Requirement already satisfied: mouseinfo in c:\\users\\jefferson.silva\\anaconda3\\lib\\site-packages (from pyautogui) (0.1.3)\n",
      "Requirement already satisfied: pygetwindow>=0.0.5 in c:\\users\\jefferson.silva\\anaconda3\\lib\\site-packages (from pyautogui) (0.0.9)\n",
      "Requirement already satisfied: PyTweening>=1.0.1 in c:\\users\\jefferson.silva\\anaconda3\\lib\\site-packages (from pyautogui) (1.0.4)\n",
      "Requirement already satisfied: pyrect in c:\\users\\jefferson.silva\\anaconda3\\lib\\site-packages (from pygetwindow>=0.0.5->pyautogui) (0.2.0)\n",
      "Requirement already satisfied: pyperclip in c:\\users\\jefferson.silva\\anaconda3\\lib\\site-packages (from mouseinfo->pyautogui) (1.8.2)\n"
     ]
    }
   ],
   "source": [
    "!pip install pyautogui"
   ]
  },
  {
   "cell_type": "code",
   "execution_count": 51,
   "metadata": {},
   "outputs": [],
   "source": [
    "import pyautogui\n",
    "import time\n",
    "import pyperclip"
   ]
  },
  {
   "cell_type": "code",
   "execution_count": 52,
   "metadata": {
    "colab": {
     "base_uri": "https://localhost:8080/",
     "height": 432
    },
    "id": "MbDCyKxCdqGp",
    "outputId": "a6fc71bb-7d98-4e19-fdc2-8a31b9e7fc6a"
   },
   "outputs": [],
   "source": [
    "#Passo 1: Entrar no sistema da empresa (no link)\n",
    "\n",
    "pyautogui.PAUSE = 1\n",
    "\n",
    "'''pyautogui.press(\"win\")\n",
    "pyautogui.write(\"edge\")\n",
    "time.sleep(5)\n",
    "pyautogui.press(\"Enter\")'''\n",
    "\n",
    "pyautogui.hotkey(\"ctrl\", \"t\")\n",
    "pyautogui.write(\"https://pages.hashtagtreinamentos.com/aula1-intensivao-sistema\")\n",
    "pyautogui.press(\"Enter\")\n",
    "\n",
    "#1.1 - Controlar o tempo de execução, para dar tempo do navegador carregar a pagina\n",
    "time.sleep(5)\n",
    "\n",
    "#Passo 2: Fazer Login\n",
    "#2.2 Clicar no campo Login\n",
    "pyautogui.click(x=1966, y=343)\n",
    "\n",
    "#2.2.1 Escrever no espaço login\n",
    "pyautogui.write(\"meu.login\")\n",
    "\n",
    "#2.3 Clicar no campo Senha\n",
    "pyautogui.click(x=1896, y=418)\n",
    "\n",
    "#2.3.1 Escrever no espaço senha\n",
    "pyautogui.write(\"minha.senha\")\n",
    "\n",
    "#2.4 Clicar em acessar\n",
    "pyautogui.click(x=1988, y=496)\n",
    "\n",
    "time.sleep(5)\n",
    "\n",
    "#Passo 3: Exportar a base de dados\n",
    "pyautogui.click(x=1786, y=255)\n",
    "pyautogui.click(x=2444, y=165)\n",
    "pyautogui.click(x=2250, y=553) #faz o download\n",
    "time.sleep(5)\n"
   ]
  },
  {
   "cell_type": "code",
   "execution_count": 53,
   "metadata": {},
   "outputs": [
    {
     "data": {
      "text/html": [
       "<div>\n",
       "<style scoped>\n",
       "    .dataframe tbody tr th:only-of-type {\n",
       "        vertical-align: middle;\n",
       "    }\n",
       "\n",
       "    .dataframe tbody tr th {\n",
       "        vertical-align: top;\n",
       "    }\n",
       "\n",
       "    .dataframe thead th {\n",
       "        text-align: right;\n",
       "    }\n",
       "</style>\n",
       "<table border=\"1\" class=\"dataframe\">\n",
       "  <thead>\n",
       "    <tr style=\"text-align: right;\">\n",
       "      <th></th>\n",
       "      <th>CódigoCompra</th>\n",
       "      <th>Data</th>\n",
       "      <th>Fornecedor</th>\n",
       "      <th>Produto</th>\n",
       "      <th>Quantidade</th>\n",
       "      <th>ValorUnitário</th>\n",
       "      <th>ValorFinal</th>\n",
       "    </tr>\n",
       "  </thead>\n",
       "  <tbody>\n",
       "    <tr>\n",
       "      <th>0</th>\n",
       "      <td>65014</td>\n",
       "      <td>01/12/2023</td>\n",
       "      <td>Fabrica Hashtag Brasil</td>\n",
       "      <td>Óleo Motor - Linha A</td>\n",
       "      <td>5</td>\n",
       "      <td>259</td>\n",
       "      <td>1295</td>\n",
       "    </tr>\n",
       "    <tr>\n",
       "      <th>1</th>\n",
       "      <td>65014</td>\n",
       "      <td>01/12/2023</td>\n",
       "      <td>Fabrica Hashtag Brasil</td>\n",
       "      <td>Kit Embreagem - Linha A</td>\n",
       "      <td>1</td>\n",
       "      <td>380</td>\n",
       "      <td>380</td>\n",
       "    </tr>\n",
       "    <tr>\n",
       "      <th>2</th>\n",
       "      <td>65016</td>\n",
       "      <td>01/12/2023</td>\n",
       "      <td>Fabrica Doidona Brasil</td>\n",
       "      <td>Bateria - Linha A</td>\n",
       "      <td>2</td>\n",
       "      <td>479</td>\n",
       "      <td>958</td>\n",
       "    </tr>\n",
       "    <tr>\n",
       "      <th>3</th>\n",
       "      <td>65016</td>\n",
       "      <td>01/12/2023</td>\n",
       "      <td>Fabrica Doidona Brasil</td>\n",
       "      <td>Filtro de Óleo - Linha A</td>\n",
       "      <td>1</td>\n",
       "      <td>18,9</td>\n",
       "      <td>18,9</td>\n",
       "    </tr>\n",
       "    <tr>\n",
       "      <th>4</th>\n",
       "      <td>65017</td>\n",
       "      <td>01/12/2023</td>\n",
       "      <td>Original Fábrica Brasil</td>\n",
       "      <td>Farol Principal - Linha A</td>\n",
       "      <td>3</td>\n",
       "      <td>159,9</td>\n",
       "      <td>479,7</td>\n",
       "    </tr>\n",
       "    <tr>\n",
       "      <th>...</th>\n",
       "      <td>...</td>\n",
       "      <td>...</td>\n",
       "      <td>...</td>\n",
       "      <td>...</td>\n",
       "      <td>...</td>\n",
       "      <td>...</td>\n",
       "      <td>...</td>\n",
       "    </tr>\n",
       "    <tr>\n",
       "      <th>4538</th>\n",
       "      <td>69996</td>\n",
       "      <td>26/12/2023</td>\n",
       "      <td>Revenda Argentina</td>\n",
       "      <td>Logo Hashtag - Linha A</td>\n",
       "      <td>2</td>\n",
       "      <td>10</td>\n",
       "      <td>20</td>\n",
       "    </tr>\n",
       "    <tr>\n",
       "      <th>4539</th>\n",
       "      <td>69996</td>\n",
       "      <td>26/12/2023</td>\n",
       "      <td>Revenda Argentina</td>\n",
       "      <td>Terminal de Direção - Linha B</td>\n",
       "      <td>4</td>\n",
       "      <td>156,4</td>\n",
       "      <td>625,6</td>\n",
       "    </tr>\n",
       "    <tr>\n",
       "      <th>4540</th>\n",
       "      <td>69996</td>\n",
       "      <td>26/12/2023</td>\n",
       "      <td>Revenda Argentina</td>\n",
       "      <td>Farol Principal - Linha B</td>\n",
       "      <td>1</td>\n",
       "      <td>183,89</td>\n",
       "      <td>183,89</td>\n",
       "    </tr>\n",
       "    <tr>\n",
       "      <th>4541</th>\n",
       "      <td>69997</td>\n",
       "      <td>26/12/2023</td>\n",
       "      <td>Fabrica Doidona Mexico</td>\n",
       "      <td>Pneus - Linha A</td>\n",
       "      <td>1</td>\n",
       "      <td>359,91</td>\n",
       "      <td>359,91</td>\n",
       "    </tr>\n",
       "    <tr>\n",
       "      <th>4542</th>\n",
       "      <td>69997</td>\n",
       "      <td>26/12/2023</td>\n",
       "      <td>Fabrica Doidona Mexico</td>\n",
       "      <td>Kit Embreagem - Linha C</td>\n",
       "      <td>2</td>\n",
       "      <td>502,55</td>\n",
       "      <td>1005,1</td>\n",
       "    </tr>\n",
       "  </tbody>\n",
       "</table>\n",
       "<p>4543 rows × 7 columns</p>\n",
       "</div>"
      ],
      "text/plain": [
       "      CódigoCompra        Data               Fornecedor  \\\n",
       "0            65014  01/12/2023   Fabrica Hashtag Brasil   \n",
       "1            65014  01/12/2023   Fabrica Hashtag Brasil   \n",
       "2            65016  01/12/2023   Fabrica Doidona Brasil   \n",
       "3            65016  01/12/2023   Fabrica Doidona Brasil   \n",
       "4            65017  01/12/2023  Original Fábrica Brasil   \n",
       "...            ...         ...                      ...   \n",
       "4538         69996  26/12/2023        Revenda Argentina   \n",
       "4539         69996  26/12/2023        Revenda Argentina   \n",
       "4540         69996  26/12/2023        Revenda Argentina   \n",
       "4541         69997  26/12/2023   Fabrica Doidona Mexico   \n",
       "4542         69997  26/12/2023   Fabrica Doidona Mexico   \n",
       "\n",
       "                            Produto  Quantidade ValorUnitário ValorFinal  \n",
       "0              Óleo Motor - Linha A           5           259       1295  \n",
       "1           Kit Embreagem - Linha A           1           380        380  \n",
       "2                 Bateria - Linha A           2           479        958  \n",
       "3          Filtro de Óleo - Linha A           1          18,9       18,9  \n",
       "4         Farol Principal - Linha A           3         159,9      479,7  \n",
       "...                             ...         ...           ...        ...  \n",
       "4538         Logo Hashtag - Linha A           2            10         20  \n",
       "4539  Terminal de Direção - Linha B           4         156,4      625,6  \n",
       "4540      Farol Principal - Linha B           1        183,89     183,89  \n",
       "4541                Pneus - Linha A           1        359,91     359,91  \n",
       "4542        Kit Embreagem - Linha C           2        502,55     1005,1  \n",
       "\n",
       "[4543 rows x 7 columns]"
      ]
     },
     "metadata": {},
     "output_type": "display_data"
    }
   ],
   "source": [
    "#Passo 4: Calcular os indicadores\n",
    "import pandas\n",
    "\n",
    "tabela = pandas.read_csv(r\"Compras.csv\", delimiter=\";\")\n",
    "display(tabela)"
   ]
  },
  {
   "cell_type": "code",
   "execution_count": 54,
   "metadata": {},
   "outputs": [
    {
     "data": {
      "text/plain": [
       "pandas.core.series.Series"
      ]
     },
     "execution_count": 54,
     "metadata": {},
     "output_type": "execute_result"
    }
   ],
   "source": [
    "#Tratando dados de coluna\n",
    "\n",
    "tabela = tabela.applymap(lambda x: x.replace(',', '.') if isinstance(x, str) else x)\n",
    "lista = ['Quantidade', 'ValorUnitário', 'ValorFinal' ]\n",
    "tabela[lista] = tabela[lista].astype(float)\n",
    "\n",
    "type(tabela['ValorFinal'])"
   ]
  },
  {
   "cell_type": "code",
   "execution_count": 55,
   "metadata": {},
   "outputs": [
    {
     "name": "stdout",
     "output_type": "stream",
     "text": [
      "7254196.58\n",
      "9715.0\n",
      "746.7006258363356\n"
     ]
    }
   ],
   "source": [
    "totalGasto = tabela[\"ValorFinal\"].sum()\n",
    "qtde = tabela[\"Quantidade\"].sum()\n",
    "precoMedio = totalGasto / qtde\n",
    "print(totalGasto)\n",
    "print(qtde)\n",
    "print(precoMedio)\n"
   ]
  },
  {
   "cell_type": "code",
   "execution_count": 56,
   "metadata": {},
   "outputs": [],
   "source": [
    "#Passo 5: Enviar um email para o chefe\n",
    "pyautogui.PAUSE = 1\n",
    "\n",
    "#Entrar no email: \n",
    "pyautogui.hotkey(\"ctrl\", \"t\")\n",
    "pyautogui.write(\"https://mail.google.com/mail/u/0/#inbox\")\n",
    "pyautogui.press(\"Enter\")\n",
    "\n",
    "#5.1 - Controlar o tempo de execução, para dar tempo do navegador carregar a pagina\n",
    "time.sleep(5)\n",
    "\n",
    "#Clicar no botão escrever\n",
    "pyautogui.click(x=1507, y=174)\n",
    "\n",
    "#Preencher as informações no email\n",
    "pyautogui.click(x=2154, y=260)\n",
    "pyautogui.write(\"jefferson_pedro25@hotmail.com\") #Destinatario\n",
    "pyautogui.press(\"tab\")\n",
    "\n",
    "pyautogui.press(\"tab\")#passa para o campo assunto\n",
    "pyperclip.copy(\"Semana do Python - Relatório de Vendas\") #Assunto\n",
    "pyautogui.hotkey(\"ctrl\", \"v\")\n",
    "\n",
    "pyautogui.press(\"tab\")#passa para o corpo do email\n",
    "texto = f\"\"\"\n",
    "Prezados, \n",
    "Segue abaixo, o relatório de compras\n",
    "\n",
    "Total Gasto:R${totalGasto:,.2f}\n",
    "Quantidade de Produtos: R${qtde:,.2f}\n",
    "Preço Médio: R${precoMedio:,.2f}\n",
    "\n",
    "Qualquer dúvida, estou a disposição.\n",
    "\n",
    "\"\"\"\n",
    "\n",
    "pyperclip.copy(texto)\n",
    "pyautogui.hotkey(\"ctrl\", \"v\")\n",
    "\n",
    "#Clicar no botão enviar\n",
    "#pyautogui.hotkey(\"ctrl\", \"enter\")"
   ]
  },
  {
   "cell_type": "code",
   "execution_count": 57,
   "metadata": {},
   "outputs": [
    {
     "name": "stdout",
     "output_type": "stream",
     "text": [
      "Point(x=1446, y=334)\n"
     ]
    }
   ],
   "source": [
    "#Pegando a posição do mouse\n",
    "time.sleep(5)\n",
    "print(pyautogui.position())"
   ]
  },
  {
   "cell_type": "code",
   "execution_count": null,
   "metadata": {},
   "outputs": [],
   "source": []
  }
 ],
 "metadata": {
  "colab": {
   "provenance": []
  },
  "kernelspec": {
   "display_name": "Python 3 (ipykernel)",
   "language": "python",
   "name": "python3"
  },
  "language_info": {
   "codemirror_mode": {
    "name": "ipython",
    "version": 3
   },
   "file_extension": ".py",
   "mimetype": "text/x-python",
   "name": "python",
   "nbconvert_exporter": "python",
   "pygments_lexer": "ipython3",
   "version": "3.9.13"
  }
 },
 "nbformat": 4,
 "nbformat_minor": 1
}
