{
 "cells": [
  {
   "cell_type": "markdown",
   "metadata": {
    "id": "P137xAovdr6H"
   },
   "source": [
    "# Automação de Sistemas e Processos com Python\n",
    "\n",
    "### Desafio:\n",
    "\n",
    "Para controle de custos, todos os dias, seu chefe pede um relatório com todas as compras de mercadorias da empresa.\n",
    "O seu trabalho, como analista, é enviar um e-mail para ele, assim que começar a trabalhar, com o total gasto, a quantidade de produtos compradas e o preço médio dos produtos.\n",
    "\n",
    "E-mail do seu chefe: para o nosso exercício, coloque um e-mail seu como sendo o e-mail do seu chefe<br>\n",
    "Link de acesso ao sistema da empresa: https://pages.hashtagtreinamentos.com/aula1-intensivao-sistema\n",
    "\n",
    "Para resolver isso, vamos usar o pyautogui, uma biblioteca de automação de comandos do mouse e do teclado\n",
    "\n"
   ]
  },
  {
   "cell_type": "code",
   "execution_count": 1,
   "metadata": {
    "colab": {
     "base_uri": "https://localhost:8080/"
    },
    "id": "0t8MDKt6esOO",
    "outputId": "12b81779-a5fd-4072-f165-0d66790b0446",
    "scrolled": false
   },
   "outputs": [
    {
     "name": "stdout",
     "output_type": "stream",
     "text": [
      "Requirement already satisfied: pyautogui in c:\\users\\jefferson.silva\\anaconda3\\lib\\site-packages (0.9.53)\n",
      "Requirement already satisfied: pygetwindow>=0.0.5 in c:\\users\\jefferson.silva\\anaconda3\\lib\\site-packages (from pyautogui) (0.0.9)\n",
      "Requirement already satisfied: mouseinfo in c:\\users\\jefferson.silva\\anaconda3\\lib\\site-packages (from pyautogui) (0.1.3)\n",
      "Requirement already satisfied: pymsgbox in c:\\users\\jefferson.silva\\anaconda3\\lib\\site-packages (from pyautogui) (1.0.9)\n",
      "Requirement already satisfied: PyTweening>=1.0.1 in c:\\users\\jefferson.silva\\anaconda3\\lib\\site-packages (from pyautogui) (1.0.4)\n",
      "Requirement already satisfied: pyscreeze>=0.1.21 in c:\\users\\jefferson.silva\\anaconda3\\lib\\site-packages (from pyautogui) (0.1.28)\n",
      "Requirement already satisfied: pyrect in c:\\users\\jefferson.silva\\anaconda3\\lib\\site-packages (from pygetwindow>=0.0.5->pyautogui) (0.2.0)\n",
      "Requirement already satisfied: pyperclip in c:\\users\\jefferson.silva\\anaconda3\\lib\\site-packages (from mouseinfo->pyautogui) (1.8.2)\n"
     ]
    }
   ],
   "source": [
    "!pip install pyautogui"
   ]
  },
  {
   "cell_type": "code",
   "execution_count": 36,
   "metadata": {
    "colab": {
     "base_uri": "https://localhost:8080/",
     "height": 432
    },
    "id": "MbDCyKxCdqGp",
    "outputId": "a6fc71bb-7d98-4e19-fdc2-8a31b9e7fc6a"
   },
   "outputs": [],
   "source": [
    "import pyautogui\n",
    "import time\n",
    "\n",
    "#Passo 1: Entrar no sistema da empresa (no link)\n",
    "\n",
    "pyautogui.PAUSE = 1\n",
    "\n",
    "'''pyautogui.press(\"win\")\n",
    "pyautogui.write(\"edge\")\n",
    "time.sleep(5)\n",
    "pyautogui.press(\"Enter\")'''\n",
    "\n",
    "pyautogui.hotkey(\"ctrl\", \"t\")\n",
    "pyautogui.write(\"https://pages.hashtagtreinamentos.com/aula1-intensivao-sistema\")\n",
    "pyautogui.press(\"Enter\")\n",
    "\n",
    "#1.1 - Controlar o tempo de execução, para dar tempo do navegador carregar a pagina\n",
    "time.sleep(5)\n",
    "\n",
    "#Passo 2: Fazer Login\n",
    "#2.2 Clicar no campo Login\n",
    "pyautogui.click(x=1966, y=343)\n",
    "\n",
    "#2.2.1 Escrever no espaço login\n",
    "pyautogui.write(\"meu.login\")\n",
    "\n",
    "#2.3 Clicar no campo Senha\n",
    "pyautogui.click(x=1896, y=418)\n",
    "\n",
    "#2.3.1 Escrever no espaço senha\n",
    "pyautogui.write(\"minha.senha\")\n",
    "\n",
    "#2.4 Clicar em acessar\n",
    "pyautogui.click(x=1988, y=496)\n",
    "\n",
    "#Passo 3: Exportar a base de dados\n",
    "pyautogui.click(x=1786, y=255)\n",
    "pyautogui.click(x=2444, y=165)\n",
    "pyautogui.click(x=2250, y=553) #faz o download\n",
    "time.sleep(5)\n"
   ]
  },
  {
   "cell_type": "code",
   "execution_count": null,
   "metadata": {},
   "outputs": [],
   "source": [
    "#Passo 4: Calcular os indicadores"
   ]
  },
  {
   "cell_type": "code",
   "execution_count": 34,
   "metadata": {},
   "outputs": [],
   "source": [
    "#Passo 5: Enviar um email para o chefe"
   ]
  },
  {
   "cell_type": "code",
   "execution_count": 32,
   "metadata": {},
   "outputs": [
    {
     "name": "stdout",
     "output_type": "stream",
     "text": [
      "Point(x=2250, y=553)\n"
     ]
    }
   ],
   "source": [
    "#Pegando a posição do mouse\n",
    "time.sleep(5)\n",
    "print(pyautogui.position())"
   ]
  },
  {
   "cell_type": "code",
   "execution_count": null,
   "metadata": {},
   "outputs": [],
   "source": []
  }
 ],
 "metadata": {
  "colab": {
   "provenance": []
  },
  "kernelspec": {
   "display_name": "Python 3 (ipykernel)",
   "language": "python",
   "name": "python3"
  },
  "language_info": {
   "codemirror_mode": {
    "name": "ipython",
    "version": 3
   },
   "file_extension": ".py",
   "mimetype": "text/x-python",
   "name": "python",
   "nbconvert_exporter": "python",
   "pygments_lexer": "ipython3",
   "version": "3.9.13"
  }
 },
 "nbformat": 4,
 "nbformat_minor": 1
}
